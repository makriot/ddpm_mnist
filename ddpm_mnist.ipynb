{
  "cells": [
    {
      "cell_type": "markdown",
      "metadata": {
        "id": "rphYvXS-bpN0"
      },
      "source": [
        "## [Статья по ddpm](https://arxiv.org/pdf/2006.11239.pdf).  \n"
      ]
    },
    {
      "cell_type": "code",
      "execution_count": 3,
      "metadata": {
        "colab": {
          "base_uri": "https://localhost:8080/"
        },
        "id": "jp9K_iqbXviv",
        "outputId": "de56a763-f92b-41a8-e80f-a50824ace86e"
      },
      "outputs": [
        {
          "name": "stdout",
          "output_type": "stream",
          "text": [
            "Python 3.10.12\n",
            "torch.__version__: 2.2.1+cu121\n"
          ]
        }
      ],
      "source": [
        "!python3 -V\n",
        "import torch\n",
        "\n",
        "\n",
        "print(f'torch.__version__: {torch.__version__}')"
      ]
    },
    {
      "cell_type": "code",
      "execution_count": 4,
      "metadata": {
        "colab": {
          "base_uri": "https://localhost:8080/"
        },
        "id": "FBIURIbFYPIr",
        "outputId": "38c732f0-f1f1-4597-b4e5-94dab65452dd"
      },
      "outputs": [
        {
          "name": "stdout",
          "output_type": "stream",
          "text": [
            "Collecting wandb\n",
            "  Downloading wandb-0.16.6-py3-none-any.whl (2.2 MB)\n",
            "\u001b[2K     \u001b[90m━━━━━━━━━━━━━━━━━━━━━━━━━━━━━━━━━━━━━━━━\u001b[0m \u001b[32m2.2/2.2 MB\u001b[0m \u001b[31m10.5 MB/s\u001b[0m eta \u001b[36m0:00:00\u001b[0m\n",
            "\u001b[?25hCollecting torch_ema\n",
            "  Downloading torch_ema-0.3-py3-none-any.whl (5.5 kB)\n",
            "Collecting denoising_diffusion_pytorch\n",
            "  Downloading denoising_diffusion_pytorch-1.11.0-py3-none-any.whl (72 kB)\n",
            "\u001b[2K     \u001b[90m━━━━━━━━━━━━━━━━━━━━━━━━━━━━━━━━━━━━━━━━\u001b[0m \u001b[32m72.4/72.4 kB\u001b[0m \u001b[31m6.8 MB/s\u001b[0m eta \u001b[36m0:00:00\u001b[0m\n",
            "\u001b[?25hRequirement already satisfied: Click!=8.0.0,>=7.1 in /usr/local/lib/python3.10/dist-packages (from wandb) (8.1.7)\n",
            "Collecting GitPython!=3.1.29,>=1.0.0 (from wandb)\n",
            "  Downloading GitPython-3.1.43-py3-none-any.whl (207 kB)\n",
            "\u001b[2K     \u001b[90m━━━━━━━━━━━━━━━━━━━━━━━━━━━━━━━━━━━━━━━━\u001b[0m \u001b[32m207.3/207.3 kB\u001b[0m \u001b[31m17.8 MB/s\u001b[0m eta \u001b[36m0:00:00\u001b[0m\n",
            "\u001b[?25hRequirement already satisfied: requests<3,>=2.0.0 in /usr/local/lib/python3.10/dist-packages (from wandb) (2.31.0)\n",
            "Requirement already satisfied: psutil>=5.0.0 in /usr/local/lib/python3.10/dist-packages (from wandb) (5.9.5)\n",
            "Collecting sentry-sdk>=1.0.0 (from wandb)\n",
            "  Downloading sentry_sdk-1.45.0-py2.py3-none-any.whl (267 kB)\n",
            "\u001b[2K     \u001b[90m━━━━━━━━━━━━━━━━━━━━━━━━━━━━━━━━━━━━━━━━\u001b[0m \u001b[32m267.1/267.1 kB\u001b[0m \u001b[31m12.0 MB/s\u001b[0m eta \u001b[36m0:00:00\u001b[0m\n",
            "\u001b[?25hCollecting docker-pycreds>=0.4.0 (from wandb)\n",
            "  Downloading docker_pycreds-0.4.0-py2.py3-none-any.whl (9.0 kB)\n",
            "Requirement already satisfied: PyYAML in /usr/local/lib/python3.10/dist-packages (from wandb) (6.0.1)\n",
            "Collecting setproctitle (from wandb)\n",
            "  Downloading setproctitle-1.3.3-cp310-cp310-manylinux_2_5_x86_64.manylinux1_x86_64.manylinux_2_17_x86_64.manylinux2014_x86_64.whl (30 kB)\n",
            "Requirement already satisfied: setuptools in /usr/local/lib/python3.10/dist-packages (from wandb) (67.7.2)\n",
            "Requirement already satisfied: appdirs>=1.4.3 in /usr/local/lib/python3.10/dist-packages (from wandb) (1.4.4)\n",
            "Requirement already satisfied: protobuf!=4.21.0,<5,>=3.19.0 in /usr/local/lib/python3.10/dist-packages (from wandb) (3.20.3)\n",
            "Requirement already satisfied: torch in /usr/local/lib/python3.10/dist-packages (from torch_ema) (2.2.1+cu121)\n",
            "Collecting accelerate (from denoising_diffusion_pytorch)\n",
            "  Downloading accelerate-0.29.2-py3-none-any.whl (297 kB)\n",
            "\u001b[2K     \u001b[90m━━━━━━━━━━━━━━━━━━━━━━━━━━━━━━━━━━━━━━━━\u001b[0m \u001b[32m297.4/297.4 kB\u001b[0m \u001b[31m14.0 MB/s\u001b[0m eta \u001b[36m0:00:00\u001b[0m\n",
            "\u001b[?25hCollecting einops (from denoising_diffusion_pytorch)\n",
            "  Downloading einops-0.7.0-py3-none-any.whl (44 kB)\n",
            "\u001b[2K     \u001b[90m━━━━━━━━━━━━━━━━━━━━━━━━━━━━━━━━━━━━━━━━\u001b[0m \u001b[32m44.6/44.6 kB\u001b[0m \u001b[31m5.4 MB/s\u001b[0m eta \u001b[36m0:00:00\u001b[0m\n",
            "\u001b[?25hCollecting ema-pytorch>=0.4.2 (from denoising_diffusion_pytorch)\n",
            "  Downloading ema_pytorch-0.4.5-py3-none-any.whl (8.4 kB)\n",
            "Requirement already satisfied: numpy in /usr/local/lib/python3.10/dist-packages (from denoising_diffusion_pytorch) (1.25.2)\n",
            "Requirement already satisfied: pillow in /usr/local/lib/python3.10/dist-packages (from denoising_diffusion_pytorch) (9.4.0)\n",
            "Collecting pytorch-fid (from denoising_diffusion_pytorch)\n",
            "  Downloading pytorch_fid-0.3.0-py3-none-any.whl (15 kB)\n",
            "Requirement already satisfied: torchvision in /usr/local/lib/python3.10/dist-packages (from denoising_diffusion_pytorch) (0.17.1+cu121)\n",
            "Requirement already satisfied: tqdm in /usr/local/lib/python3.10/dist-packages (from denoising_diffusion_pytorch) (4.66.2)\n",
            "Requirement already satisfied: six>=1.4.0 in /usr/local/lib/python3.10/dist-packages (from docker-pycreds>=0.4.0->wandb) (1.16.0)\n",
            "Collecting beartype (from ema-pytorch>=0.4.2->denoising_diffusion_pytorch)\n",
            "  Downloading beartype-0.18.2-py3-none-any.whl (903 kB)\n",
            "\u001b[2K     \u001b[90m━━━━━━━━━━━━━━━━━━━━━━━━━━━━━━━━━━━━━━━━\u001b[0m \u001b[32m903.7/903.7 kB\u001b[0m \u001b[31m16.8 MB/s\u001b[0m eta \u001b[36m0:00:00\u001b[0m\n",
            "\u001b[?25hCollecting gitdb<5,>=4.0.1 (from GitPython!=3.1.29,>=1.0.0->wandb)\n",
            "  Downloading gitdb-4.0.11-py3-none-any.whl (62 kB)\n",
            "\u001b[2K     \u001b[90m━━━━━━━━━━━━━━━━━━━━━━━━━━━━━━━━━━━━━━━━\u001b[0m \u001b[32m62.7/62.7 kB\u001b[0m \u001b[31m8.7 MB/s\u001b[0m eta \u001b[36m0:00:00\u001b[0m\n",
            "\u001b[?25hRequirement already satisfied: charset-normalizer<4,>=2 in /usr/local/lib/python3.10/dist-packages (from requests<3,>=2.0.0->wandb) (3.3.2)\n",
            "Requirement already satisfied: idna<4,>=2.5 in /usr/local/lib/python3.10/dist-packages (from requests<3,>=2.0.0->wandb) (3.6)\n",
            "Requirement already satisfied: urllib3<3,>=1.21.1 in /usr/local/lib/python3.10/dist-packages (from requests<3,>=2.0.0->wandb) (2.0.7)\n",
            "Requirement already satisfied: certifi>=2017.4.17 in /usr/local/lib/python3.10/dist-packages (from requests<3,>=2.0.0->wandb) (2024.2.2)\n",
            "Requirement already satisfied: filelock in /usr/local/lib/python3.10/dist-packages (from torch->torch_ema) (3.13.4)\n",
            "Requirement already satisfied: typing-extensions>=4.8.0 in /usr/local/lib/python3.10/dist-packages (from torch->torch_ema) (4.11.0)\n",
            "Requirement already satisfied: sympy in /usr/local/lib/python3.10/dist-packages (from torch->torch_ema) (1.12)\n",
            "Requirement already satisfied: networkx in /usr/local/lib/python3.10/dist-packages (from torch->torch_ema) (3.3)\n",
            "Requirement already satisfied: jinja2 in /usr/local/lib/python3.10/dist-packages (from torch->torch_ema) (3.1.3)\n",
            "Requirement already satisfied: fsspec in /usr/local/lib/python3.10/dist-packages (from torch->torch_ema) (2023.6.0)\n",
            "Collecting nvidia-cuda-nvrtc-cu12==12.1.105 (from torch->torch_ema)\n",
            "  Using cached nvidia_cuda_nvrtc_cu12-12.1.105-py3-none-manylinux1_x86_64.whl (23.7 MB)\n",
            "Collecting nvidia-cuda-runtime-cu12==12.1.105 (from torch->torch_ema)\n",
            "  Using cached nvidia_cuda_runtime_cu12-12.1.105-py3-none-manylinux1_x86_64.whl (823 kB)\n",
            "Collecting nvidia-cuda-cupti-cu12==12.1.105 (from torch->torch_ema)\n",
            "  Using cached nvidia_cuda_cupti_cu12-12.1.105-py3-none-manylinux1_x86_64.whl (14.1 MB)\n",
            "Collecting nvidia-cudnn-cu12==8.9.2.26 (from torch->torch_ema)\n",
            "  Using cached nvidia_cudnn_cu12-8.9.2.26-py3-none-manylinux1_x86_64.whl (731.7 MB)\n",
            "Collecting nvidia-cublas-cu12==12.1.3.1 (from torch->torch_ema)\n",
            "  Using cached nvidia_cublas_cu12-12.1.3.1-py3-none-manylinux1_x86_64.whl (410.6 MB)\n",
            "Collecting nvidia-cufft-cu12==11.0.2.54 (from torch->torch_ema)\n",
            "  Using cached nvidia_cufft_cu12-11.0.2.54-py3-none-manylinux1_x86_64.whl (121.6 MB)\n",
            "Collecting nvidia-curand-cu12==10.3.2.106 (from torch->torch_ema)\n",
            "  Using cached nvidia_curand_cu12-10.3.2.106-py3-none-manylinux1_x86_64.whl (56.5 MB)\n",
            "Collecting nvidia-cusolver-cu12==11.4.5.107 (from torch->torch_ema)\n",
            "  Using cached nvidia_cusolver_cu12-11.4.5.107-py3-none-manylinux1_x86_64.whl (124.2 MB)\n",
            "Collecting nvidia-cusparse-cu12==12.1.0.106 (from torch->torch_ema)\n",
            "  Using cached nvidia_cusparse_cu12-12.1.0.106-py3-none-manylinux1_x86_64.whl (196.0 MB)\n",
            "Collecting nvidia-nccl-cu12==2.19.3 (from torch->torch_ema)\n",
            "  Using cached nvidia_nccl_cu12-2.19.3-py3-none-manylinux1_x86_64.whl (166.0 MB)\n",
            "Collecting nvidia-nvtx-cu12==12.1.105 (from torch->torch_ema)\n",
            "  Using cached nvidia_nvtx_cu12-12.1.105-py3-none-manylinux1_x86_64.whl (99 kB)\n",
            "Requirement already satisfied: triton==2.2.0 in /usr/local/lib/python3.10/dist-packages (from torch->torch_ema) (2.2.0)\n",
            "Collecting nvidia-nvjitlink-cu12 (from nvidia-cusolver-cu12==11.4.5.107->torch->torch_ema)\n",
            "  Using cached nvidia_nvjitlink_cu12-12.4.127-py3-none-manylinux2014_x86_64.whl (21.1 MB)\n",
            "Requirement already satisfied: packaging>=20.0 in /usr/local/lib/python3.10/dist-packages (from accelerate->denoising_diffusion_pytorch) (24.0)\n",
            "Requirement already satisfied: huggingface-hub in /usr/local/lib/python3.10/dist-packages (from accelerate->denoising_diffusion_pytorch) (0.20.3)\n",
            "Requirement already satisfied: safetensors>=0.3.1 in /usr/local/lib/python3.10/dist-packages (from accelerate->denoising_diffusion_pytorch) (0.4.2)\n",
            "Requirement already satisfied: scipy in /usr/local/lib/python3.10/dist-packages (from pytorch-fid->denoising_diffusion_pytorch) (1.11.4)\n",
            "Collecting smmap<6,>=3.0.1 (from gitdb<5,>=4.0.1->GitPython!=3.1.29,>=1.0.0->wandb)\n",
            "  Downloading smmap-5.0.1-py3-none-any.whl (24 kB)\n",
            "Requirement already satisfied: MarkupSafe>=2.0 in /usr/local/lib/python3.10/dist-packages (from jinja2->torch->torch_ema) (2.1.5)\n",
            "Requirement already satisfied: mpmath>=0.19 in /usr/local/lib/python3.10/dist-packages (from sympy->torch->torch_ema) (1.3.0)\n",
            "Installing collected packages: smmap, setproctitle, sentry-sdk, nvidia-nvtx-cu12, nvidia-nvjitlink-cu12, nvidia-nccl-cu12, nvidia-curand-cu12, nvidia-cufft-cu12, nvidia-cuda-runtime-cu12, nvidia-cuda-nvrtc-cu12, nvidia-cuda-cupti-cu12, nvidia-cublas-cu12, einops, docker-pycreds, beartype, nvidia-cusparse-cu12, nvidia-cudnn-cu12, gitdb, nvidia-cusolver-cu12, GitPython, wandb, torch_ema, ema-pytorch, accelerate, pytorch-fid, denoising_diffusion_pytorch\n",
            "Successfully installed GitPython-3.1.43 accelerate-0.29.2 beartype-0.18.2 denoising_diffusion_pytorch-1.11.0 docker-pycreds-0.4.0 einops-0.7.0 ema-pytorch-0.4.5 gitdb-4.0.11 nvidia-cublas-cu12-12.1.3.1 nvidia-cuda-cupti-cu12-12.1.105 nvidia-cuda-nvrtc-cu12-12.1.105 nvidia-cuda-runtime-cu12-12.1.105 nvidia-cudnn-cu12-8.9.2.26 nvidia-cufft-cu12-11.0.2.54 nvidia-curand-cu12-10.3.2.106 nvidia-cusolver-cu12-11.4.5.107 nvidia-cusparse-cu12-12.1.0.106 nvidia-nccl-cu12-2.19.3 nvidia-nvjitlink-cu12-12.4.127 nvidia-nvtx-cu12-12.1.105 pytorch-fid-0.3.0 sentry-sdk-1.45.0 setproctitle-1.3.3 smmap-5.0.1 torch_ema-0.3 wandb-0.16.6\n"
          ]
        }
      ],
      "source": [
        "!pip3 install wandb torch_ema denoising_diffusion_pytorch"
      ]
    },
    {
      "cell_type": "markdown",
      "metadata": {
        "id": "6WZY-WNeY7kZ"
      },
      "source": [
        "## Dataset"
      ]
    },
    {
      "cell_type": "code",
      "execution_count": 5,
      "metadata": {
        "id": "pepIVsGlYSjg"
      },
      "outputs": [],
      "source": [
        "import numpy as np\n",
        "\n",
        "from torchvision.datasets import MNIST\n",
        "from torch.utils.data import DataLoader, Dataset\n",
        "from typing import Generator, Tuple, Dict, Optional, Union\n",
        "from torch import Tensor\n",
        "from cv2 import resize\n",
        "\n",
        "\n",
        "def preprocess_image(image: \"PIL.Image\") -> np.ndarray:\n",
        "    image = np.array(image, dtype=np.uint8)\n",
        "    image = resize(image, (32, 32))\n",
        "    return np.array(image, dtype=np.float32) / 127.5 - 1\n",
        "\n",
        "\n",
        "def postprocess_image(image: torch.Tensor) -> torch.Tensor:\n",
        "    # convert values to [0; 255]\n",
        "    image = image.cpu().detach()\n",
        "    image = (image + 1) * 127.5\n",
        "    image = torch.clip(image, 0, 255)\n",
        "    return image\n",
        "\n",
        "\n",
        "class MnistDataset(Dataset):\n",
        "    def __init__(self, train: bool = True):\n",
        "        super().__init__()\n",
        "        self.mnist = MNIST(\n",
        "            'data',\n",
        "            train=train,\n",
        "            download=True\n",
        "        )\n",
        "\n",
        "    def __len__(self) -> int:\n",
        "        return len(self.mnist)\n",
        "\n",
        "    def __getitem__(self, index: int) -> Dict[str, Tensor]:\n",
        "        image, target = self.mnist[index]\n",
        "        image = preprocess_image(image)\n",
        "        target = int(target)\n",
        "        return {\n",
        "            \"images\": Tensor(image)[None],\n",
        "            \"targets\": target\n",
        "        }"
      ]
    },
    {
      "cell_type": "code",
      "execution_count": 10,
      "metadata": {
        "id": "ucKUUyTHbwBl"
      },
      "outputs": [],
      "source": [
        "def dict_to_device(dct: Dict[str, Tensor], device: torch.device) -> Dict[str, Tensor]:\n",
        "    return {k: v.to(device) for k, v in dct.items()}\n",
        "\n",
        "\n",
        "def get_train_images_generator(\n",
        "    batch_size: int = 128,\n",
        "    num_workers: int = 0,\n",
        "    shuffle: bool = True,\n",
        "    drop_last: bool = True\n",
        ") -> Generator[Dict[str, Tensor], None, None]:\n",
        "    dataset = MnistDataset(train=True)\n",
        "    loader = DataLoader(\n",
        "        dataset,\n",
        "        batch_size=batch_size,\n",
        "        num_workers=num_workers,\n",
        "        shuffle=shuffle,\n",
        "        drop_last=drop_last\n",
        "    )\n",
        "    while True:\n",
        "        yield from loader"
      ]
    },
    {
      "cell_type": "code",
      "execution_count": 5,
      "metadata": {
        "colab": {
          "base_uri": "https://localhost:8080/"
        },
        "id": "_oFoKuTcZhV-",
        "outputId": "eb3a2362-1a34-452e-95e0-083773ef2b26"
      },
      "outputs": [
        {
          "name": "stdout",
          "output_type": "stream",
          "text": [
            "Downloading http://yann.lecun.com/exdb/mnist/train-images-idx3-ubyte.gz\n",
            "Downloading http://yann.lecun.com/exdb/mnist/train-images-idx3-ubyte.gz to data/MNIST/raw/train-images-idx3-ubyte.gz\n"
          ]
        },
        {
          "name": "stderr",
          "output_type": "stream",
          "text": [
            "100%|██████████| 9912422/9912422 [00:00<00:00, 93297110.01it/s]\n"
          ]
        },
        {
          "name": "stdout",
          "output_type": "stream",
          "text": [
            "Extracting data/MNIST/raw/train-images-idx3-ubyte.gz to data/MNIST/raw\n",
            "\n",
            "Downloading http://yann.lecun.com/exdb/mnist/train-labels-idx1-ubyte.gz\n",
            "Downloading http://yann.lecun.com/exdb/mnist/train-labels-idx1-ubyte.gz to data/MNIST/raw/train-labels-idx1-ubyte.gz\n"
          ]
        },
        {
          "name": "stderr",
          "output_type": "stream",
          "text": [
            "100%|██████████| 28881/28881 [00:00<00:00, 25069473.06it/s]"
          ]
        },
        {
          "name": "stdout",
          "output_type": "stream",
          "text": [
            "Extracting data/MNIST/raw/train-labels-idx1-ubyte.gz to data/MNIST/raw\n",
            "\n",
            "Downloading http://yann.lecun.com/exdb/mnist/t10k-images-idx3-ubyte.gz\n"
          ]
        },
        {
          "name": "stderr",
          "output_type": "stream",
          "text": [
            "\n"
          ]
        },
        {
          "name": "stdout",
          "output_type": "stream",
          "text": [
            "Downloading http://yann.lecun.com/exdb/mnist/t10k-images-idx3-ubyte.gz to data/MNIST/raw/t10k-images-idx3-ubyte.gz\n"
          ]
        },
        {
          "name": "stderr",
          "output_type": "stream",
          "text": [
            "100%|██████████| 1648877/1648877 [00:00<00:00, 24296122.95it/s]\n"
          ]
        },
        {
          "name": "stdout",
          "output_type": "stream",
          "text": [
            "Extracting data/MNIST/raw/t10k-images-idx3-ubyte.gz to data/MNIST/raw\n",
            "\n",
            "Downloading http://yann.lecun.com/exdb/mnist/t10k-labels-idx1-ubyte.gz\n",
            "Downloading http://yann.lecun.com/exdb/mnist/t10k-labels-idx1-ubyte.gz to data/MNIST/raw/t10k-labels-idx1-ubyte.gz\n"
          ]
        },
        {
          "name": "stderr",
          "output_type": "stream",
          "text": [
            "100%|██████████| 4542/4542 [00:00<00:00, 4957202.39it/s]\n"
          ]
        },
        {
          "name": "stdout",
          "output_type": "stream",
          "text": [
            "Extracting data/MNIST/raw/t10k-labels-idx1-ubyte.gz to data/MNIST/raw\n",
            "\n"
          ]
        }
      ],
      "source": [
        "def check_generator(batch_size: int = 128):\n",
        "    generator = get_train_images_generator(batch_size)\n",
        "    batch_dict = next(generator)\n",
        "    assert(batch_dict['images'].shape == (batch_size, 1, 32, 32))\n",
        "    assert(batch_dict['targets'].shape == (batch_size,))\n",
        "\n",
        "check_generator(131)"
      ]
    },
    {
      "cell_type": "markdown",
      "metadata": {
        "id": "cnL1kOH9dz6X"
      },
      "source": [
        "## DDPM's dynamic"
      ]
    },
    {
      "cell_type": "markdown",
      "metadata": {
        "id": "SI4dfAkgaSFN"
      },
      "source": [
        "\n",
        "\n",
        "В `get_coeffs_primities` (2 pts) необходимо в возвращаеый словарь добавить рассчет коэффицентов, при помощи которых можно будет реализовать семплирование из распределений $q(x_t | x_0), q(x_t | x_{t+1}, x_0), p(x_t | x_{t + 1})$.\n",
        "\n",
        "Например:\n",
        "- $\\alpha_t = 1 - \\beta_t$\n",
        "- $\\bar{\\alpha_t} = \\prod_{t=1}^{T} \\alpha_t$\n",
        "- $\\sqrt{\\bar{\\alpha_t}}$\n",
        "- ...\n",
        "- любые коэффиценты, которые помогут рассчитать коэффиценты в $q(x_t | x_0), q(x_t | x_{t+1}, x_0), p(x_t | x_{t + 1})$\n",
        "\n",
        "`extract_values_from_times` - по батчу с целочисленными временами выдает батч коэффицентов в нужном шейпе для перемножения с батчом картинок\n"
      ]
    },
    {
      "cell_type": "code",
      "execution_count": 6,
      "metadata": {
        "id": "rqzPyjd_oWCe"
      },
      "outputs": [],
      "source": [
        "from torch import nn\n",
        "\n",
        "\n",
        "def get_coeffs_primitives(\n",
        "    T: int = 1000,\n",
        "    beta_min: float = 1e-4,\n",
        "    beta_max: float = 2e-2,\n",
        ") -> Dict[str, Tensor]:\n",
        "    \"\"\"\n",
        "    output: Dict[str, Tensor]\n",
        "      {\n",
        "        \"betas\": betas coeffs,\n",
        "        \"alphas\": alphas coeffs,\n",
        "        \"sqrt_alphas\": sqrt of alphas coeffs,\n",
        "        \"noise_pred_coeff\": coeff for noise predictior,\n",
        "        \"sqrt_alphas_hat\": sqrt of cumulative product of alphas,\n",
        "        \"sqrt_1m_alphas_hat\": sqrt(1 - cumulative product of alphas)\n",
        "        \"betas_var\": betas variance coeff,\n",
        "        \"x_0_coeff\": x_0 coeff for mu,\n",
        "        \"x_t_coeff\": x_t coeff for mu,\n",
        "      }\n",
        "    ---\n",
        "    Tensor.shape == (T,)\n",
        "    \"\"\"\n",
        "    betas = torch.linspace(beta_min, beta_max, T).float()\n",
        "    alphas = 1 - betas\n",
        "\n",
        "    sqrt_alphas = torch.sqrt(alphas)\n",
        "    alphas_hat = torch.cumprod(alphas, dim=0)\n",
        "    sqrt_alphas_hat = torch.sqrt(alphas_hat)\n",
        "\n",
        "    alphas_hat_prev = torch.cat([torch.FloatTensor([1.]), alphas_hat[:-1]])\n",
        "    betas_var = (1 - alphas_hat_prev) / (1 - alphas_hat) * betas\n",
        "\n",
        "    x_0_coeff = torch.sqrt(alphas_hat_prev) * betas / (1 - alphas_hat)\n",
        "    x_t_coeff = sqrt_alphas * (1 - alphas_hat_prev) / (1 - alphas_hat)\n",
        "\n",
        "    return {\n",
        "        \"betas\": betas,\n",
        "        \"alphas\": alphas,\n",
        "        \"sqrt_alphas\": torch.sqrt(alphas),\n",
        "        \"noise_pred_coeff\": (1 - alphas) / torch.sqrt(1 - alphas_hat),\n",
        "        \"sqrt_alphas_hat\": sqrt_alphas_hat,\n",
        "        \"sqrt_1m_alphas_hat\": torch.sqrt(1 - alphas_hat),\n",
        "        \"betas_var\": betas_var,\n",
        "        \"x_0_coeff\": x_0_coeff,\n",
        "        \"x_t_coeff\": x_t_coeff,\n",
        "    }\n",
        "\n",
        "\n",
        "def extract_values_from_times(values: Tensor, times: torch.LongTensor) -> Tensor:\n",
        "    values = values[times]\n",
        "    return values[:, None, None, None]\n"
      ]
    },
    {
      "cell_type": "markdown",
      "metadata": {
        "id": "QuGOyfS1eexc"
      },
      "source": [
        "`DDPMDynamic`: (3 pts)\n",
        "- `__init__` - получаем коэффиценты, добавляем их в класс, как атрибуты, чтобы доставать их по имени без использования словаря\n",
        "- `sample_from_posterior_q(x_t: FloatTensor, x_0: FloatTensor, t: LongTensor)` - $ x_{t-1} \\sim q(x_{t-1} | x_{t}, x_0) $\n",
        "- `forward` - $ x_{t} \\sim q(x_t | x_0) $"
      ]
    },
    {
      "cell_type": "code",
      "execution_count": 26,
      "metadata": {
        "id": "KJKv2JIabgno"
      },
      "outputs": [],
      "source": [
        "class DDPMDynamic(nn.Module):\n",
        "    def __init__(\n",
        "        self,\n",
        "        T: int = 1000,\n",
        "        beta_min: float = 1e-4,\n",
        "        beta_max: float = 2e-2,\n",
        "    ):\n",
        "        super().__init__()\n",
        "        self.T = T\n",
        "\n",
        "        coeffs_primitives = get_coeffs_primitives(T, beta_min, beta_max)\n",
        "\n",
        "        for name, tensor in coeffs_primitives.items():\n",
        "            self.register_buffer(name, tensor)\n",
        "\n",
        "    def sample_time_on_device(self, batch_size: int = 1, device: torch.device = torch.device('cpu')):\n",
        "        return torch.randint(0, self.T, (batch_size,), device=device)\n",
        "\n",
        "    def sample_from_posterior_q(\n",
        "        self,\n",
        "        x_t: Tensor,\n",
        "        x_0: Tensor,\n",
        "        t: torch.LongTensor\n",
        "    ) -> Tensor:\n",
        "        loc = self.x_0_coeff[t] * x_0 + self.x_t_coeff[t] * x_t\n",
        "        scale = torch.sqrt(self.betas_var[t])\n",
        "        return torch.randn_like(loc) * scale + loc\n",
        "\n",
        "    def get_x_zero(\n",
        "        self,\n",
        "        x_t: Tensor,\n",
        "        eps: Tensor,\n",
        "        t: torch.LongTensor\n",
        "    ) -> Tensor:\n",
        "        sqrt_alphas_hat = extract_values_from_times(self.sqrt_alphas_hat, t)\n",
        "        sqrt_1m_alphas_hat = extract_values_from_times(self.sqrt_1m_alphas_hat, t)\n",
        "\n",
        "        x_0 = (x_t - sqrt_1m_alphas_hat * eps) / sqrt_alphas_hat\n",
        "        return x_0\n",
        "\n",
        "    def forward(self, batch: Dict[str, Tensor]) -> Dict[str, Tensor]:\n",
        "        \"\"\"\n",
        "            Dict:\n",
        "                x_0 - clean_image\n",
        "                t - time (int \\in [0; T - 1])\n",
        "                eps - Optional[corresponding noise]\n",
        "        Returns:\n",
        "            Dict:\n",
        "                x_t - noised_sample\n",
        "                eps - corresponding noise\n",
        "        \"\"\"\n",
        "        x_0 = batch['x_0']\n",
        "        t = batch['t']\n",
        "        if batch.get('eps', None) is None:\n",
        "            eps = torch.randn_like(x_0)\n",
        "        else:\n",
        "            eps = batch['eps']\n",
        "\n",
        "        sqrt_alphas_hat = extract_values_from_times(self.sqrt_alphas_hat, t)\n",
        "        sqrt_1m_alphas_hat = extract_values_from_times(self.sqrt_1m_alphas_hat, t)\n",
        "\n",
        "        x_t = sqrt_alphas_hat * x_0 + sqrt_1m_alphas_hat * eps\n",
        "\n",
        "        return {\n",
        "            \"x_t\": x_t,\n",
        "            \"eps\": eps\n",
        "        }\n"
      ]
    },
    {
      "cell_type": "code",
      "execution_count": 27,
      "metadata": {
        "id": "q6oQUTh1jgow"
      },
      "outputs": [],
      "source": [
        "def check_ddpm_dynamic():\n",
        "    dynamic = DDPMDynamic()\n",
        "    device = torch.device('cuda:0')\n",
        "    dynamic.to(device)\n",
        "    times = dynamic.sample_time_on_device(10, device)\n",
        "    assert times.device == device, f'{times.device}, {device}'\n",
        "    assert times.shape == (10,)\n",
        "\n",
        "check_ddpm_dynamic()"
      ]
    },
    {
      "cell_type": "markdown",
      "metadata": {
        "id": "V82uRoyiheh3"
      },
      "source": [
        "### `Sampler`/DDPM's cycle: (1.5 pts)\n",
        "- `single_step` - необходимо просемплировать $x_{t-1} \\sim p(x_{t-1}|x_t)$\n",
        "- `sample` - весь процесс обхода по марковской цепочки семплирования"
      ]
    },
    {
      "cell_type": "code",
      "execution_count": 55,
      "metadata": {
        "id": "FAKbjV1CkETL"
      },
      "outputs": [],
      "source": [
        "from tqdm.auto import trange\n",
        "\n",
        "\n",
        "class Sampler(nn.Module):\n",
        "    def __init__(\n",
        "        self,\n",
        "        ddpm: nn.Module,\n",
        "        dynamic: DDPMDynamic\n",
        "    ):\n",
        "        super().__init__()\n",
        "        ddpm.eval()\n",
        "        self.ddpm = ddpm\n",
        "        self.dynamic = dynamic\n",
        "\n",
        "    @torch.no_grad()\n",
        "    def single_step(self, x_t, t):\n",
        "        noise_pred_coeff = extract_values_from_times(self.dynamic.noise_pred_coeff, t)\n",
        "        sqrt_alphas = extract_values_from_times(self.dynamic.sqrt_alphas, t)\n",
        "        betas_var = extract_values_from_times(self.dynamic.betas_var, t)\n",
        "\n",
        "        z = torch.randn_like(x_t) if t[0] > 0 else torch.zeros_like(x_t)\n",
        "        x_prev = (x_t - noise_pred_coeff * self.ddpm(x_t, t))/sqrt_alphas\n",
        "        x_prev += torch.sqrt(betas_var) * z\n",
        "        return x_prev\n",
        "\n",
        "    @torch.no_grad()\n",
        "    def sample(\n",
        "        self,\n",
        "        shape: Tuple[int, int, int, int],\n",
        "        device: torch.device = torch.device('cpu'),\n",
        "        verbose: bool = False\n",
        "    ) -> Tensor:\n",
        "        self.ddpm.eval()\n",
        "        x_t = torch.randn(shape, device=device)\n",
        "        batch_size = shape[0]\n",
        "\n",
        "        bar = trange if verbose else range\n",
        "        for t in bar(self.dynamic.T - 1, -1, -1):\n",
        "            t_tensor = torch.ones(batch_size, dtype=torch.int64, device=device) * t\n",
        "            x_t = self.single_step(x_t, t_tensor)\n",
        "        return x_t\n"
      ]
    },
    {
      "cell_type": "markdown",
      "metadata": {
        "id": "SFofycjpkDa0"
      },
      "source": [
        "### При помощи примитивов сверху реализовать обучение ddpm.\n"
      ]
    },
    {
      "cell_type": "markdown",
      "metadata": {
        "id": "okoAWO2ykA3G"
      },
      "source": [
        "![image.png](data:image/png;base64,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)"
      ]
    },
    {
      "cell_type": "markdown",
      "metadata": {
        "id": "w7BhB0erivMz"
      },
      "source": [
        "\n",
        "`DiffusionTrainer`\n",
        "- `calc_loss(clean_images: FloatTensor)` - необходимо внутри метода просемплировать время, далее просемплировать $x_t$, обработать батч, рассчитать лосс для обучения"
      ]
    },
    {
      "cell_type": "code",
      "execution_count": 56,
      "metadata": {
        "id": "CBFeIfCytcjV"
      },
      "outputs": [],
      "source": [
        "from torch_ema import ExponentialMovingAverage\n",
        "import wandb\n",
        "import math\n",
        "import torchvision\n",
        "\n",
        "\n",
        "class DiffusionTrainer:\n",
        "    def __init__(\n",
        "        self,\n",
        "        ddpm: nn.Module,\n",
        "        dynamic: DDPMDynamic,\n",
        "        device: torch.device = torch.device('cpu')\n",
        "    ):\n",
        "        self.ddpm = ddpm\n",
        "        self.dynamic = dynamic\n",
        "\n",
        "        self.dynamic.to(device)\n",
        "        self.ddpm.to(device)\n",
        "\n",
        "        self.sampler = Sampler(ddpm, dynamic)\n",
        "        self.sampler.to(device)\n",
        "\n",
        "        self.ema = ExponentialMovingAverage(ddpm.parameters(), decay=0.999)\n",
        "\n",
        "        self.device = device\n",
        "\n",
        "\n",
        "        self.optimizer = torch.optim.AdamW(\n",
        "            self.ddpm.parameters(),\n",
        "            lr=2e-4,\n",
        "            weight_decay=1e-2\n",
        "        )\n",
        "\n",
        "        self.step = 0\n",
        "\n",
        "    def switch_to_ema(self) -> None:\n",
        "        self.ema.store(self.ddpm.parameters())\n",
        "        self.ema.copy_to(self.ddpm.parameters())\n",
        "\n",
        "    def switch_back_from_ema(self) -> None:\n",
        "        self.ema.restore(self.ddpm.parameters())\n",
        "\n",
        "    def calc_loss(self, x_0: torch.Tensor) -> torch.Tensor:\n",
        "        batch_size = x_0.shape[0]\n",
        "        t = self.dynamic.sample_time_on_device(batch_size, self.device)\n",
        "        dynamic_res = self.dynamic({\n",
        "            'x_0': x_0,\n",
        "            't': t\n",
        "        })\n",
        "        x_t = dynamic_res['x_t']\n",
        "        eps = dynamic_res['eps']\n",
        "        eps_pred = self.ddpm(x_t, t)\n",
        "        return torch.sum((eps - eps_pred) ** 2)\n",
        "\n",
        "    def log_metric(self, metric_name: str, loader_name: str, value: Union[float, torch.Tensor, wandb.Image]):\n",
        "        wandb.log({f'{metric_name}/{loader_name}': value}, step=self.step)\n",
        "\n",
        "    def optimizer_logic(self, loss: torch.Tensor) -> None:\n",
        "        self.optimizer.zero_grad()\n",
        "        loss.backward()\n",
        "        self.optimizer.step()\n",
        "        self.ema.update(self.ddpm.parameters())\n",
        "\n",
        "    def train(\n",
        "            self,\n",
        "            train_generator: Generator[Dict[str, Tensor], None, None],\n",
        "            total_iters: int = 1000,\n",
        "            project_name: str = 'discrete_time_ddpm',\n",
        "            experiment_name: str = 'mnist_baseline'\n",
        "        ) -> None:\n",
        "        session = wandb.init(project=project_name, name=experiment_name)\n",
        "\n",
        "        self.ddpm.train()\n",
        "\n",
        "        for iter_idx in trange(1, 1 + total_iters):\n",
        "            self.step = iter_idx\n",
        "\n",
        "            batch = next(train_generator)\n",
        "            batch = dict_to_device(batch, device=self.device)\n",
        "\n",
        "            loss = self.calc_loss(x_0=batch['images'])\n",
        "            self.log_metric('mse', 'train', loss)\n",
        "\n",
        "            self.optimizer_logic(loss)\n",
        "\n",
        "            if iter_idx % 1000 == 0:\n",
        "                self.snapshot()\n",
        "\n",
        "        self.ddpm.eval()\n",
        "        self.switch_to_ema()\n",
        "\n",
        "        session.finish()\n",
        "\n",
        "    @torch.no_grad()\n",
        "    def sample_images(\n",
        "            self, batch_size: int,\n",
        "            verbose: bool = False\n",
        "    ) -> torch.Tensor:\n",
        "        x_pred = self.sampler.sample((batch_size, 1, 32, 32), self.device, verbose)\n",
        "        x_pred = postprocess_image(x_pred)\n",
        "        return x_pred\n",
        "\n",
        "    @torch.no_grad()\n",
        "    def snapshot(self) -> None:\n",
        "        prev_mode = self.ddpm.training\n",
        "\n",
        "        self.ddpm.eval()\n",
        "        self.switch_to_ema()\n",
        "\n",
        "        images = self.sample_images(100).cpu()\n",
        "        nrow = 10\n",
        "        grid = torchvision.utils.make_grid(images, nrow=nrow).permute(1, 2, 0)\n",
        "        grid = grid.data.numpy().astype(np.uint8)\n",
        "        self.log_metric('images', 'from_noise', wandb.Image(grid))\n",
        "\n",
        "        self.switch_back_from_ema()\n",
        "        self.ddpm.train(prev_mode)"
      ]
    },
    {
      "cell_type": "code",
      "execution_count": 57,
      "metadata": {
        "id": "o-L4eW6GzBbm"
      },
      "outputs": [],
      "source": [
        "from denoising_diffusion_pytorch import Unet\n",
        "\n",
        "ddpm = Unet(\n",
        "    dim=64,\n",
        "    dim_mults=(1, 2, 4, 4),\n",
        "    channels=1,\n",
        "    flash_attn=True\n",
        ")"
      ]
    },
    {
      "cell_type": "code",
      "execution_count": 58,
      "metadata": {
        "id": "3o9FRVLD0XZT"
      },
      "outputs": [],
      "source": [
        "device = torch.device('cuda:0')"
      ]
    },
    {
      "cell_type": "code",
      "execution_count": 59,
      "metadata": {
        "id": "jvgdSzEq0RrG"
      },
      "outputs": [],
      "source": [
        "trainer = DiffusionTrainer(\n",
        "    ddpm,\n",
        "    DDPMDynamic(),\n",
        "    device\n",
        ")"
      ]
    },
    {
      "cell_type": "code",
      "execution_count": 60,
      "metadata": {
        "id": "MT6__Tha0A50"
      },
      "outputs": [],
      "source": [
        "generator = get_train_images_generator(128)"
      ]
    },
    {
      "cell_type": "code",
      "execution_count": 61,
      "metadata": {
        "colab": {
          "base_uri": "https://localhost:8080/",
          "height": 341,
          "referenced_widgets": [
            "7db7e181b9ff4bd2a3d3c06f0ee89288",
            "ac79a8c252954739b5d0a36ec8c034a7",
            "1c667af491db467887df8fd1ac1a2de1",
            "094b0224182f41cbb69dfbd1dace2c83",
            "6c095c466ed946e3a46e96ce8a1982f4",
            "0d58c9742aae499790a6d202cd0c0378",
            "a878cfced5af4e1d8ce52d1b38537aaa",
            "b037b15deaee4d598eaeb7007118af74",
            "4952dbccf4a64bf5ae2915e6db40b14c",
            "f08b917b839c41e09a11fa30317cdb11",
            "e725f99f2279418db3cb29e5f4a511e7",
            "88d07f8b9dac4036be0b8ca4b8a5355a",
            "567afad05f3a44e780b466bf51e6c019",
            "8760592f4df54e25ba7bf1cdd2e0cc95",
            "ca23dddef4ad4c499ae87421a19047be",
            "35cd16e870ea495fbeb6621746e0c059",
            "7a0500ee3799413ea2b064f4472dfa67",
            "718730ed65ee46088b5fd6b6590f564e",
            "d0b6eb49faea4bd496a6c9b596b8bc2e"
          ]
        },
        "id": "DmdjyZvh0c0V",
        "outputId": "2080a69f-2271-4ee7-a708-c14259bf65c0"
      },
      "outputs": [
        {
          "name": "stderr",
          "output_type": "stream",
          "text": [
            "\u001b[34m\u001b[1mwandb\u001b[0m: Currently logged in as: \u001b[33mdanilkes\u001b[0m (\u001b[33mmakriot\u001b[0m). Use \u001b[1m`wandb login --relogin`\u001b[0m to force relogin\n"
          ]
        },
        {
          "data": {
            "text/html": [
              "Tracking run with wandb version 0.16.6"
            ],
            "text/plain": [
              "<IPython.core.display.HTML object>"
            ]
          },
          "metadata": {},
          "output_type": "display_data"
        },
        {
          "data": {
            "text/html": [
              "Run data is saved locally in <code>/content/wandb/run-20240413_200334-aa7w8lfn</code>"
            ],
            "text/plain": [
              "<IPython.core.display.HTML object>"
            ]
          },
          "metadata": {},
          "output_type": "display_data"
        },
        {
          "data": {
            "text/html": [
              "Syncing run <strong><a href='https://wandb.ai/makriot/discrete_time_ddpm/runs/aa7w8lfn' target=\"_blank\">mnist_baseline</a></strong> to <a href='https://wandb.ai/makriot/discrete_time_ddpm' target=\"_blank\">Weights & Biases</a> (<a href='https://wandb.me/run' target=\"_blank\">docs</a>)<br/>"
            ],
            "text/plain": [
              "<IPython.core.display.HTML object>"
            ]
          },
          "metadata": {},
          "output_type": "display_data"
        },
        {
          "data": {
            "text/html": [
              " View project at <a href='https://wandb.ai/makriot/discrete_time_ddpm' target=\"_blank\">https://wandb.ai/makriot/discrete_time_ddpm</a>"
            ],
            "text/plain": [
              "<IPython.core.display.HTML object>"
            ]
          },
          "metadata": {},
          "output_type": "display_data"
        },
        {
          "data": {
            "text/html": [
              " View run at <a href='https://wandb.ai/makriot/discrete_time_ddpm/runs/aa7w8lfn' target=\"_blank\">https://wandb.ai/makriot/discrete_time_ddpm/runs/aa7w8lfn</a>"
            ],
            "text/plain": [
              "<IPython.core.display.HTML object>"
            ]
          },
          "metadata": {},
          "output_type": "display_data"
        },
        {
          "data": {
            "application/vnd.jupyter.widget-view+json": {
              "model_id": "7db7e181b9ff4bd2a3d3c06f0ee89288",
              "version_major": 2,
              "version_minor": 0
            },
            "text/plain": [
              "  0%|          | 0/5000 [00:00<?, ?it/s]"
            ]
          },
          "metadata": {},
          "output_type": "display_data"
        },
        {
          "data": {
            "application/vnd.jupyter.widget-view+json": {
              "model_id": "88d07f8b9dac4036be0b8ca4b8a5355a",
              "version_major": 2,
              "version_minor": 0
            },
            "text/plain": [
              "VBox(children=(Label(value='0.432 MB of 0.432 MB uploaded\\r'), FloatProgress(value=1.0, max=1.0)))"
            ]
          },
          "metadata": {},
          "output_type": "display_data"
        },
        {
          "data": {
            "text/html": [
              "<style>\n",
              "    table.wandb td:nth-child(1) { padding: 0 10px; text-align: left ; width: auto;} td:nth-child(2) {text-align: left ; width: 100%}\n",
              "    .wandb-row { display: flex; flex-direction: row; flex-wrap: wrap; justify-content: flex-start; width: 100% }\n",
              "    .wandb-col { display: flex; flex-direction: column; flex-basis: 100%; flex: 1; padding: 10px; }\n",
              "    </style>\n",
              "<div class=\"wandb-row\"><div class=\"wandb-col\"><h3>Run history:</h3><br/><table class=\"wandb\"><tr><td>mse/train</td><td>█▄▃▂▂▂▂▂▂▂▂▂▁▂▁▂▂▂▁▁▁▁▁▂▁▁▁▁▂▁▂▁▁▁▂▂▁▁▂▁</td></tr></table><br/></div><div class=\"wandb-col\"><h3>Run summary:</h3><br/><table class=\"wandb\"><tr><td>mse/train</td><td>1864.76953</td></tr></table><br/></div></div>"
            ],
            "text/plain": [
              "<IPython.core.display.HTML object>"
            ]
          },
          "metadata": {},
          "output_type": "display_data"
        },
        {
          "data": {
            "text/html": [
              " View run <strong style=\"color:#cdcd00\">mnist_baseline</strong> at: <a href='https://wandb.ai/makriot/discrete_time_ddpm/runs/aa7w8lfn' target=\"_blank\">https://wandb.ai/makriot/discrete_time_ddpm/runs/aa7w8lfn</a><br/> View project at: <a href='https://wandb.ai/makriot/discrete_time_ddpm' target=\"_blank\">https://wandb.ai/makriot/discrete_time_ddpm</a><br/>Synced 4 W&B file(s), 5 media file(s), 0 artifact file(s) and 0 other file(s)"
            ],
            "text/plain": [
              "<IPython.core.display.HTML object>"
            ]
          },
          "metadata": {},
          "output_type": "display_data"
        },
        {
          "data": {
            "text/html": [
              "Find logs at: <code>./wandb/run-20240413_200334-aa7w8lfn/logs</code>"
            ],
            "text/plain": [
              "<IPython.core.display.HTML object>"
            ]
          },
          "metadata": {},
          "output_type": "display_data"
        }
      ],
      "source": [
        "trainer.train(\n",
        "    generator,\n",
        "    total_iters=5000\n",
        ")"
      ]
    },
    {
      "cell_type": "markdown",
      "metadata": {
        "id": "k01r-99eEanm"
      },
      "source": [
        "#### Безусловная генерация (неплохих картинок - 1 pts)"
      ]
    },
    {
      "cell_type": "code",
      "execution_count": 62,
      "metadata": {
        "colab": {
          "base_uri": "https://localhost:8080/",
          "height": 484,
          "referenced_widgets": [
            "ffa2db0aefd7471295da43a834497f10",
            "17e11b5f59e04d9f86b8bd6783ccdfb3",
            "f451b0d5324b4995ba2a6c810c3c2fac",
            "44105c5356a345c6a57389ff2aa9a52c",
            "33ff32f02bc348ae8e42b2cb9f923821",
            "dc8234da94b6412598b281cb490c5a01",
            "62b6b17255884d8981f928588be2cc18",
            "62e055959f004a409c86c1e09f7fd253",
            "8061c27c87b74b4796ce93830fa9f906",
            "d2f0dff1e09246019b796eb80bc09349",
            "9f65c683f67342109650d6b251c9f87a"
          ]
        },
        "id": "9o7nPmxN4w6i",
        "outputId": "6647c840-85ac-464d-e427-2a57dc9c0b2d"
      },
      "outputs": [
        {
          "data": {
            "application/vnd.jupyter.widget-view+json": {
              "model_id": "ffa2db0aefd7471295da43a834497f10",
              "version_major": 2,
              "version_minor": 0
            },
            "text/plain": [
              "  0%|          | 0/1000 [00:00<?, ?it/s]"
            ]
          },
          "metadata": {},
          "output_type": "display_data"
        },
        {
          "data": {
            "text/plain": [
              "<matplotlib.image.AxesImage at 0x7fb5846ca920>"
            ]
          },
          "execution_count": 62,
          "metadata": {},
          "output_type": "execute_result"
        },
        {
          "data": {
            "image/png": "[encoded data removed]",
            "text/plain": [
              "<Figure size 640x480 with 1 Axes>"
            ]
          },
          "metadata": {},
          "output_type": "display_data"
        }
      ],
      "source": [
        "from matplotlib import pyplot as plt\n",
        "import math\n",
        "\n",
        "\n",
        "def sample_images(\n",
        "    sampler: Sampler, batch_size: int == 100,\n",
        "    device = torch.device('cpu'),\n",
        "    verbose: bool = True\n",
        "):\n",
        "    images = sampler.sample((batch_size, 1, 32, 32), device, verbose)\n",
        "    images = postprocess_image(images)\n",
        "    images = images.cpu()\n",
        "    nrow = int(math.ceil(math.sqrt(batch_size)))\n",
        "    grid = torchvision.utils.make_grid(images, nrow=nrow).permute(1, 2, 0)\n",
        "    grid = grid.data.numpy().astype(np.uint8)\n",
        "    return grid\n",
        "\n",
        "grid = sample_images(trainer.sampler, 100, trainer.device)\n",
        "\n",
        "plt.imshow(grid)"
      ]
    },
    {
      "cell_type": "markdown",
      "metadata": {
        "id": "pR6r0e4qjUPJ"
      },
      "source": [
        "### Выводы/результаты:\n",
        "---\n",
        "\n",
        "Получилось реализовать логику диффузионки из статьи, обучить её, и запустить. Сгенерированные картинки выглядят прям как настоящие! (кайф). Открыл для себя суперполезный способ отслеживать обучение нейронок: \"wandb\", буду использовать для следующих экспериментов.\n",
        "\n",
        "Из особенностей экспериментов можно отметить что диффузионка действительно не быстро генерирует, и вопрос ускорения генерации остаётся актуальным. Также стоит отметить, что мы добились хорошего качества используя \"простой\" loss, т.е. без использования теоретических коэффициентов, и в будущем хотелось бы попробовать сравнить результаты с теоретической лосс функцией. Дальше хотелось бы применить эту модель к CIFAR."
      ]
    }
  ],
  "metadata": {
    "colab": {
      "provenance": []
    },
    "kernelspec": {
      "display_name": "Python 3",
      "name": "python3"
    },
    "language_info": {
      "codemirror_mode": {
        "name": "ipython",
        "version": 3
      },
      "file_extension": ".py",
      "mimetype": "text/x-python",
      "name": "python",
      "nbconvert_exporter": "python",
      "pygments_lexer": "ipython3",
      "version": "3.12.2"
    },
    "widgets": {
      "application/vnd.jupyter.widget-state+json": {
        "094b0224182f41cbb69dfbd1dace2c83": {
          "model_module": "@jupyter-widgets/controls",
          "model_module_version": "1.5.0",
          "model_name": "HTMLModel",
          "state": {
            "_dom_classes": [],
            "_model_module": "@jupyter-widgets/controls",
            "_model_module_version": "1.5.0",
            "_model_name": "HTMLModel",
            "_view_count": null,
            "_view_module": "@jupyter-widgets/controls",
            "_view_module_version": "1.5.0",
            "_view_name": "HTMLView",
            "description": "",
            "description_tooltip": null,
            "layout": "IPY_MODEL_f08b917b839c41e09a11fa30317cdb11",
            "placeholder": "​",
            "style": "IPY_MODEL_e725f99f2279418db3cb29e5f4a511e7",
            "value": " 5000/5000 [42:11&lt;00:00, 31.87s/it]"
          }
        },
        "0d58c9742aae499790a6d202cd0c0378": {
          "model_module": "@jupyter-widgets/base",
          "model_module_version": "1.2.0",
          "model_name": "LayoutModel",
          "state": {
            "_model_module": "@jupyter-widgets/base",
            "_model_module_version": "1.2.0",
            "_model_name": "LayoutModel",
            "_view_count": null,
            "_view_module": "@jupyter-widgets/base",
            "_view_module_version": "1.2.0",
            "_view_name": "LayoutView",
            "align_content": null,
            "align_items": null,
            "align_self": null,
            "border": null,
            "bottom": null,
            "display": null,
            "flex": null,
            "flex_flow": null,
            "grid_area": null,
            "grid_auto_columns": null,
            "grid_auto_flow": null,
            "grid_auto_rows": null,
            "grid_column": null,
            "grid_gap": null,
            "grid_row": null,
            "grid_template_areas": null,
            "grid_template_columns": null,
            "grid_template_rows": null,
            "height": null,
            "justify_content": null,
            "justify_items": null,
            "left": null,
            "margin": null,
            "max_height": null,
            "max_width": null,
            "min_height": null,
            "min_width": null,
            "object_fit": null,
            "object_position": null,
            "order": null,
            "overflow": null,
            "overflow_x": null,
            "overflow_y": null,
            "padding": null,
            "right": null,
            "top": null,
            "visibility": null,
            "width": null
          }
        },
        "17e11b5f59e04d9f86b8bd6783ccdfb3": {
          "model_module": "@jupyter-widgets/controls",
          "model_module_version": "1.5.0",
          "model_name": "HTMLModel",
          "state": {
            "_dom_classes": [],
            "_model_module": "@jupyter-widgets/controls",
            "_model_module_version": "1.5.0",
            "_model_name": "HTMLModel",
            "_view_count": null,
            "_view_module": "@jupyter-widgets/controls",
            "_view_module_version": "1.5.0",
            "_view_name": "HTMLView",
            "description": "",
            "description_tooltip": null,
            "layout": "IPY_MODEL_dc8234da94b6412598b281cb490c5a01",
            "placeholder": "​",
            "style": "IPY_MODEL_62b6b17255884d8981f928588be2cc18",
            "value": "100%"
          }
        },
        "1c667af491db467887df8fd1ac1a2de1": {
          "model_module": "@jupyter-widgets/controls",
          "model_module_version": "1.5.0",
          "model_name": "FloatProgressModel",
          "state": {
            "_dom_classes": [],
            "_model_module": "@jupyter-widgets/controls",
            "_model_module_version": "1.5.0",
            "_model_name": "FloatProgressModel",
            "_view_count": null,
            "_view_module": "@jupyter-widgets/controls",
            "_view_module_version": "1.5.0",
            "_view_name": "ProgressView",
            "bar_style": "success",
            "description": "",
            "description_tooltip": null,
            "layout": "IPY_MODEL_b037b15deaee4d598eaeb7007118af74",
            "max": 5000,
            "min": 0,
            "orientation": "horizontal",
            "style": "IPY_MODEL_4952dbccf4a64bf5ae2915e6db40b14c",
            "value": 5000
          }
        },
        "33ff32f02bc348ae8e42b2cb9f923821": {
          "model_module": "@jupyter-widgets/base",
          "model_module_version": "1.2.0",
          "model_name": "LayoutModel",
          "state": {
            "_model_module": "@jupyter-widgets/base",
            "_model_module_version": "1.2.0",
            "_model_name": "LayoutModel",
            "_view_count": null,
            "_view_module": "@jupyter-widgets/base",
            "_view_module_version": "1.2.0",
            "_view_name": "LayoutView",
            "align_content": null,
            "align_items": null,
            "align_self": null,
            "border": null,
            "bottom": null,
            "display": null,
            "flex": null,
            "flex_flow": null,
            "grid_area": null,
            "grid_auto_columns": null,
            "grid_auto_flow": null,
            "grid_auto_rows": null,
            "grid_column": null,
            "grid_gap": null,
            "grid_row": null,
            "grid_template_areas": null,
            "grid_template_columns": null,
            "grid_template_rows": null,
            "height": null,
            "justify_content": null,
            "justify_items": null,
            "left": null,
            "margin": null,
            "max_height": null,
            "max_width": null,
            "min_height": null,
            "min_width": null,
            "object_fit": null,
            "object_position": null,
            "order": null,
            "overflow": null,
            "overflow_x": null,
            "overflow_y": null,
            "padding": null,
            "right": null,
            "top": null,
            "visibility": null,
            "width": null
          }
        },
        "35cd16e870ea495fbeb6621746e0c059": {
          "model_module": "@jupyter-widgets/base",
          "model_module_version": "1.2.0",
          "model_name": "LayoutModel",
          "state": {
            "_model_module": "@jupyter-widgets/base",
            "_model_module_version": "1.2.0",
            "_model_name": "LayoutModel",
            "_view_count": null,
            "_view_module": "@jupyter-widgets/base",
            "_view_module_version": "1.2.0",
            "_view_name": "LayoutView",
            "align_content": null,
            "align_items": null,
            "align_self": null,
            "border": null,
            "bottom": null,
            "display": null,
            "flex": null,
            "flex_flow": null,
            "grid_area": null,
            "grid_auto_columns": null,
            "grid_auto_flow": null,
            "grid_auto_rows": null,
            "grid_column": null,
            "grid_gap": null,
            "grid_row": null,
            "grid_template_areas": null,
            "grid_template_columns": null,
            "grid_template_rows": null,
            "height": null,
            "justify_content": null,
            "justify_items": null,
            "left": null,
            "margin": null,
            "max_height": null,
            "max_width": null,
            "min_height": null,
            "min_width": null,
            "object_fit": null,
            "object_position": null,
            "order": null,
            "overflow": null,
            "overflow_x": null,
            "overflow_y": null,
            "padding": null,
            "right": null,
            "top": null,
            "visibility": null,
            "width": null
          }
        },
        "44105c5356a345c6a57389ff2aa9a52c": {
          "model_module": "@jupyter-widgets/controls",
          "model_module_version": "1.5.0",
          "model_name": "HTMLModel",
          "state": {
            "_dom_classes": [],
            "_model_module": "@jupyter-widgets/controls",
            "_model_module_version": "1.5.0",
            "_model_name": "HTMLModel",
            "_view_count": null,
            "_view_module": "@jupyter-widgets/controls",
            "_view_module_version": "1.5.0",
            "_view_name": "HTMLView",
            "description": "",
            "description_tooltip": null,
            "layout": "IPY_MODEL_d2f0dff1e09246019b796eb80bc09349",
            "placeholder": "​",
            "style": "IPY_MODEL_9f65c683f67342109650d6b251c9f87a",
            "value": " 1000/1000 [01:44&lt;00:00,  9.56it/s]"
          }
        },
        "4952dbccf4a64bf5ae2915e6db40b14c": {
          "model_module": "@jupyter-widgets/controls",
          "model_module_version": "1.5.0",
          "model_name": "ProgressStyleModel",
          "state": {
            "_model_module": "@jupyter-widgets/controls",
            "_model_module_version": "1.5.0",
            "_model_name": "ProgressStyleModel",
            "_view_count": null,
            "_view_module": "@jupyter-widgets/base",
            "_view_module_version": "1.2.0",
            "_view_name": "StyleView",
            "bar_color": null,
            "description_width": ""
          }
        },
        "567afad05f3a44e780b466bf51e6c019": {
          "model_module": "@jupyter-widgets/controls",
          "model_module_version": "1.5.0",
          "model_name": "LabelModel",
          "state": {
            "_dom_classes": [],
            "_model_module": "@jupyter-widgets/controls",
            "_model_module_version": "1.5.0",
            "_model_name": "LabelModel",
            "_view_count": null,
            "_view_module": "@jupyter-widgets/controls",
            "_view_module_version": "1.5.0",
            "_view_name": "LabelView",
            "description": "",
            "description_tooltip": null,
            "layout": "IPY_MODEL_35cd16e870ea495fbeb6621746e0c059",
            "placeholder": "​",
            "style": "IPY_MODEL_7a0500ee3799413ea2b064f4472dfa67",
            "value": "0.432 MB of 0.432 MB uploaded\r"
          }
        },
        "62b6b17255884d8981f928588be2cc18": {
          "model_module": "@jupyter-widgets/controls",
          "model_module_version": "1.5.0",
          "model_name": "DescriptionStyleModel",
          "state": {
            "_model_module": "@jupyter-widgets/controls",
            "_model_module_version": "1.5.0",
            "_model_name": "DescriptionStyleModel",
            "_view_count": null,
            "_view_module": "@jupyter-widgets/base",
            "_view_module_version": "1.2.0",
            "_view_name": "StyleView",
            "description_width": ""
          }
        },
        "62e055959f004a409c86c1e09f7fd253": {
          "model_module": "@jupyter-widgets/base",
          "model_module_version": "1.2.0",
          "model_name": "LayoutModel",
          "state": {
            "_model_module": "@jupyter-widgets/base",
            "_model_module_version": "1.2.0",
            "_model_name": "LayoutModel",
            "_view_count": null,
            "_view_module": "@jupyter-widgets/base",
            "_view_module_version": "1.2.0",
            "_view_name": "LayoutView",
            "align_content": null,
            "align_items": null,
            "align_self": null,
            "border": null,
            "bottom": null,
            "display": null,
            "flex": null,
            "flex_flow": null,
            "grid_area": null,
            "grid_auto_columns": null,
            "grid_auto_flow": null,
            "grid_auto_rows": null,
            "grid_column": null,
            "grid_gap": null,
            "grid_row": null,
            "grid_template_areas": null,
            "grid_template_columns": null,
            "grid_template_rows": null,
            "height": null,
            "justify_content": null,
            "justify_items": null,
            "left": null,
            "margin": null,
            "max_height": null,
            "max_width": null,
            "min_height": null,
            "min_width": null,
            "object_fit": null,
            "object_position": null,
            "order": null,
            "overflow": null,
            "overflow_x": null,
            "overflow_y": null,
            "padding": null,
            "right": null,
            "top": null,
            "visibility": null,
            "width": null
          }
        },
        "6c095c466ed946e3a46e96ce8a1982f4": {
          "model_module": "@jupyter-widgets/base",
          "model_module_version": "1.2.0",
          "model_name": "LayoutModel",
          "state": {
            "_model_module": "@jupyter-widgets/base",
            "_model_module_version": "1.2.0",
            "_model_name": "LayoutModel",
            "_view_count": null,
            "_view_module": "@jupyter-widgets/base",
            "_view_module_version": "1.2.0",
            "_view_name": "LayoutView",
            "align_content": null,
            "align_items": null,
            "align_self": null,
            "border": null,
            "bottom": null,
            "display": null,
            "flex": null,
            "flex_flow": null,
            "grid_area": null,
            "grid_auto_columns": null,
            "grid_auto_flow": null,
            "grid_auto_rows": null,
            "grid_column": null,
            "grid_gap": null,
            "grid_row": null,
            "grid_template_areas": null,
            "grid_template_columns": null,
            "grid_template_rows": null,
            "height": null,
            "justify_content": null,
            "justify_items": null,
            "left": null,
            "margin": null,
            "max_height": null,
            "max_width": null,
            "min_height": null,
            "min_width": null,
            "object_fit": null,
            "object_position": null,
            "order": null,
            "overflow": null,
            "overflow_x": null,
            "overflow_y": null,
            "padding": null,
            "right": null,
            "top": null,
            "visibility": null,
            "width": null
          }
        },
        "718730ed65ee46088b5fd6b6590f564e": {
          "model_module": "@jupyter-widgets/base",
          "model_module_version": "1.2.0",
          "model_name": "LayoutModel",
          "state": {
            "_model_module": "@jupyter-widgets/base",
            "_model_module_version": "1.2.0",
            "_model_name": "LayoutModel",
            "_view_count": null,
            "_view_module": "@jupyter-widgets/base",
            "_view_module_version": "1.2.0",
            "_view_name": "LayoutView",
            "align_content": null,
            "align_items": null,
            "align_self": null,
            "border": null,
            "bottom": null,
            "display": null,
            "flex": null,
            "flex_flow": null,
            "grid_area": null,
            "grid_auto_columns": null,
            "grid_auto_flow": null,
            "grid_auto_rows": null,
            "grid_column": null,
            "grid_gap": null,
            "grid_row": null,
            "grid_template_areas": null,
            "grid_template_columns": null,
            "grid_template_rows": null,
            "height": null,
            "justify_content": null,
            "justify_items": null,
            "left": null,
            "margin": null,
            "max_height": null,
            "max_width": null,
            "min_height": null,
            "min_width": null,
            "object_fit": null,
            "object_position": null,
            "order": null,
            "overflow": null,
            "overflow_x": null,
            "overflow_y": null,
            "padding": null,
            "right": null,
            "top": null,
            "visibility": null,
            "width": null
          }
        },
        "7a0500ee3799413ea2b064f4472dfa67": {
          "model_module": "@jupyter-widgets/controls",
          "model_module_version": "1.5.0",
          "model_name": "DescriptionStyleModel",
          "state": {
            "_model_module": "@jupyter-widgets/controls",
            "_model_module_version": "1.5.0",
            "_model_name": "DescriptionStyleModel",
            "_view_count": null,
            "_view_module": "@jupyter-widgets/base",
            "_view_module_version": "1.2.0",
            "_view_name": "StyleView",
            "description_width": ""
          }
        },
        "7db7e181b9ff4bd2a3d3c06f0ee89288": {
          "model_module": "@jupyter-widgets/controls",
          "model_module_version": "1.5.0",
          "model_name": "HBoxModel",
          "state": {
            "_dom_classes": [],
            "_model_module": "@jupyter-widgets/controls",
            "_model_module_version": "1.5.0",
            "_model_name": "HBoxModel",
            "_view_count": null,
            "_view_module": "@jupyter-widgets/controls",
            "_view_module_version": "1.5.0",
            "_view_name": "HBoxView",
            "box_style": "",
            "children": [
              "IPY_MODEL_ac79a8c252954739b5d0a36ec8c034a7",
              "IPY_MODEL_1c667af491db467887df8fd1ac1a2de1",
              "IPY_MODEL_094b0224182f41cbb69dfbd1dace2c83"
            ],
            "layout": "IPY_MODEL_6c095c466ed946e3a46e96ce8a1982f4"
          }
        },
        "8061c27c87b74b4796ce93830fa9f906": {
          "model_module": "@jupyter-widgets/controls",
          "model_module_version": "1.5.0",
          "model_name": "ProgressStyleModel",
          "state": {
            "_model_module": "@jupyter-widgets/controls",
            "_model_module_version": "1.5.0",
            "_model_name": "ProgressStyleModel",
            "_view_count": null,
            "_view_module": "@jupyter-widgets/base",
            "_view_module_version": "1.2.0",
            "_view_name": "StyleView",
            "bar_color": null,
            "description_width": ""
          }
        },
        "8760592f4df54e25ba7bf1cdd2e0cc95": {
          "model_module": "@jupyter-widgets/controls",
          "model_module_version": "1.5.0",
          "model_name": "FloatProgressModel",
          "state": {
            "_dom_classes": [],
            "_model_module": "@jupyter-widgets/controls",
            "_model_module_version": "1.5.0",
            "_model_name": "FloatProgressModel",
            "_view_count": null,
            "_view_module": "@jupyter-widgets/controls",
            "_view_module_version": "1.5.0",
            "_view_name": "ProgressView",
            "bar_style": "",
            "description": "",
            "description_tooltip": null,
            "layout": "IPY_MODEL_718730ed65ee46088b5fd6b6590f564e",
            "max": 1,
            "min": 0,
            "orientation": "horizontal",
            "style": "IPY_MODEL_d0b6eb49faea4bd496a6c9b596b8bc2e",
            "value": 1
          }
        },
        "88d07f8b9dac4036be0b8ca4b8a5355a": {
          "model_module": "@jupyter-widgets/controls",
          "model_module_version": "1.5.0",
          "model_name": "VBoxModel",
          "state": {
            "_dom_classes": [],
            "_model_module": "@jupyter-widgets/controls",
            "_model_module_version": "1.5.0",
            "_model_name": "VBoxModel",
            "_view_count": null,
            "_view_module": "@jupyter-widgets/controls",
            "_view_module_version": "1.5.0",
            "_view_name": "VBoxView",
            "box_style": "",
            "children": [
              "IPY_MODEL_567afad05f3a44e780b466bf51e6c019",
              "IPY_MODEL_8760592f4df54e25ba7bf1cdd2e0cc95"
            ],
            "layout": "IPY_MODEL_ca23dddef4ad4c499ae87421a19047be"
          }
        },
        "9f65c683f67342109650d6b251c9f87a": {
          "model_module": "@jupyter-widgets/controls",
          "model_module_version": "1.5.0",
          "model_name": "DescriptionStyleModel",
          "state": {
            "_model_module": "@jupyter-widgets/controls",
            "_model_module_version": "1.5.0",
            "_model_name": "DescriptionStyleModel",
            "_view_count": null,
            "_view_module": "@jupyter-widgets/base",
            "_view_module_version": "1.2.0",
            "_view_name": "StyleView",
            "description_width": ""
          }
        },
        "a878cfced5af4e1d8ce52d1b38537aaa": {
          "model_module": "@jupyter-widgets/controls",
          "model_module_version": "1.5.0",
          "model_name": "DescriptionStyleModel",
          "state": {
            "_model_module": "@jupyter-widgets/controls",
            "_model_module_version": "1.5.0",
            "_model_name": "DescriptionStyleModel",
            "_view_count": null,
            "_view_module": "@jupyter-widgets/base",
            "_view_module_version": "1.2.0",
            "_view_name": "StyleView",
            "description_width": ""
          }
        },
        "ac79a8c252954739b5d0a36ec8c034a7": {
          "model_module": "@jupyter-widgets/controls",
          "model_module_version": "1.5.0",
          "model_name": "HTMLModel",
          "state": {
            "_dom_classes": [],
            "_model_module": "@jupyter-widgets/controls",
            "_model_module_version": "1.5.0",
            "_model_name": "HTMLModel",
            "_view_count": null,
            "_view_module": "@jupyter-widgets/controls",
            "_view_module_version": "1.5.0",
            "_view_name": "HTMLView",
            "description": "",
            "description_tooltip": null,
            "layout": "IPY_MODEL_0d58c9742aae499790a6d202cd0c0378",
            "placeholder": "​",
            "style": "IPY_MODEL_a878cfced5af4e1d8ce52d1b38537aaa",
            "value": "100%"
          }
        },
        "b037b15deaee4d598eaeb7007118af74": {
          "model_module": "@jupyter-widgets/base",
          "model_module_version": "1.2.0",
          "model_name": "LayoutModel",
          "state": {
            "_model_module": "@jupyter-widgets/base",
            "_model_module_version": "1.2.0",
            "_model_name": "LayoutModel",
            "_view_count": null,
            "_view_module": "@jupyter-widgets/base",
            "_view_module_version": "1.2.0",
            "_view_name": "LayoutView",
            "align_content": null,
            "align_items": null,
            "align_self": null,
            "border": null,
            "bottom": null,
            "display": null,
            "flex": null,
            "flex_flow": null,
            "grid_area": null,
            "grid_auto_columns": null,
            "grid_auto_flow": null,
            "grid_auto_rows": null,
            "grid_column": null,
            "grid_gap": null,
            "grid_row": null,
            "grid_template_areas": null,
            "grid_template_columns": null,
            "grid_template_rows": null,
            "height": null,
            "justify_content": null,
            "justify_items": null,
            "left": null,
            "margin": null,
            "max_height": null,
            "max_width": null,
            "min_height": null,
            "min_width": null,
            "object_fit": null,
            "object_position": null,
            "order": null,
            "overflow": null,
            "overflow_x": null,
            "overflow_y": null,
            "padding": null,
            "right": null,
            "top": null,
            "visibility": null,
            "width": null
          }
        },
        "ca23dddef4ad4c499ae87421a19047be": {
          "model_module": "@jupyter-widgets/base",
          "model_module_version": "1.2.0",
          "model_name": "LayoutModel",
          "state": {
            "_model_module": "@jupyter-widgets/base",
            "_model_module_version": "1.2.0",
            "_model_name": "LayoutModel",
            "_view_count": null,
            "_view_module": "@jupyter-widgets/base",
            "_view_module_version": "1.2.0",
            "_view_name": "LayoutView",
            "align_content": null,
            "align_items": null,
            "align_self": null,
            "border": null,
            "bottom": null,
            "display": null,
            "flex": null,
            "flex_flow": null,
            "grid_area": null,
            "grid_auto_columns": null,
            "grid_auto_flow": null,
            "grid_auto_rows": null,
            "grid_column": null,
            "grid_gap": null,
            "grid_row": null,
            "grid_template_areas": null,
            "grid_template_columns": null,
            "grid_template_rows": null,
            "height": null,
            "justify_content": null,
            "justify_items": null,
            "left": null,
            "margin": null,
            "max_height": null,
            "max_width": null,
            "min_height": null,
            "min_width": null,
            "object_fit": null,
            "object_position": null,
            "order": null,
            "overflow": null,
            "overflow_x": null,
            "overflow_y": null,
            "padding": null,
            "right": null,
            "top": null,
            "visibility": null,
            "width": null
          }
        },
        "d0b6eb49faea4bd496a6c9b596b8bc2e": {
          "model_module": "@jupyter-widgets/controls",
          "model_module_version": "1.5.0",
          "model_name": "ProgressStyleModel",
          "state": {
            "_model_module": "@jupyter-widgets/controls",
            "_model_module_version": "1.5.0",
            "_model_name": "ProgressStyleModel",
            "_view_count": null,
            "_view_module": "@jupyter-widgets/base",
            "_view_module_version": "1.2.0",
            "_view_name": "StyleView",
            "bar_color": null,
            "description_width": ""
          }
        },
        "d2f0dff1e09246019b796eb80bc09349": {
          "model_module": "@jupyter-widgets/base",
          "model_module_version": "1.2.0",
          "model_name": "LayoutModel",
          "state": {
            "_model_module": "@jupyter-widgets/base",
            "_model_module_version": "1.2.0",
            "_model_name": "LayoutModel",
            "_view_count": null,
            "_view_module": "@jupyter-widgets/base",
            "_view_module_version": "1.2.0",
            "_view_name": "LayoutView",
            "align_content": null,
            "align_items": null,
            "align_self": null,
            "border": null,
            "bottom": null,
            "display": null,
            "flex": null,
            "flex_flow": null,
            "grid_area": null,
            "grid_auto_columns": null,
            "grid_auto_flow": null,
            "grid_auto_rows": null,
            "grid_column": null,
            "grid_gap": null,
            "grid_row": null,
            "grid_template_areas": null,
            "grid_template_columns": null,
            "grid_template_rows": null,
            "height": null,
            "justify_content": null,
            "justify_items": null,
            "left": null,
            "margin": null,
            "max_height": null,
            "max_width": null,
            "min_height": null,
            "min_width": null,
            "object_fit": null,
            "object_position": null,
            "order": null,
            "overflow": null,
            "overflow_x": null,
            "overflow_y": null,
            "padding": null,
            "right": null,
            "top": null,
            "visibility": null,
            "width": null
          }
        },
        "dc8234da94b6412598b281cb490c5a01": {
          "model_module": "@jupyter-widgets/base",
          "model_module_version": "1.2.0",
          "model_name": "LayoutModel",
          "state": {
            "_model_module": "@jupyter-widgets/base",
            "_model_module_version": "1.2.0",
            "_model_name": "LayoutModel",
            "_view_count": null,
            "_view_module": "@jupyter-widgets/base",
            "_view_module_version": "1.2.0",
            "_view_name": "LayoutView",
            "align_content": null,
            "align_items": null,
            "align_self": null,
            "border": null,
            "bottom": null,
            "display": null,
            "flex": null,
            "flex_flow": null,
            "grid_area": null,
            "grid_auto_columns": null,
            "grid_auto_flow": null,
            "grid_auto_rows": null,
            "grid_column": null,
            "grid_gap": null,
            "grid_row": null,
            "grid_template_areas": null,
            "grid_template_columns": null,
            "grid_template_rows": null,
            "height": null,
            "justify_content": null,
            "justify_items": null,
            "left": null,
            "margin": null,
            "max_height": null,
            "max_width": null,
            "min_height": null,
            "min_width": null,
            "object_fit": null,
            "object_position": null,
            "order": null,
            "overflow": null,
            "overflow_x": null,
            "overflow_y": null,
            "padding": null,
            "right": null,
            "top": null,
            "visibility": null,
            "width": null
          }
        },
        "e725f99f2279418db3cb29e5f4a511e7": {
          "model_module": "@jupyter-widgets/controls",
          "model_module_version": "1.5.0",
          "model_name": "DescriptionStyleModel",
          "state": {
            "_model_module": "@jupyter-widgets/controls",
            "_model_module_version": "1.5.0",
            "_model_name": "DescriptionStyleModel",
            "_view_count": null,
            "_view_module": "@jupyter-widgets/base",
            "_view_module_version": "1.2.0",
            "_view_name": "StyleView",
            "description_width": ""
          }
        },
        "f08b917b839c41e09a11fa30317cdb11": {
          "model_module": "@jupyter-widgets/base",
          "model_module_version": "1.2.0",
          "model_name": "LayoutModel",
          "state": {
            "_model_module": "@jupyter-widgets/base",
            "_model_module_version": "1.2.0",
            "_model_name": "LayoutModel",
            "_view_count": null,
            "_view_module": "@jupyter-widgets/base",
            "_view_module_version": "1.2.0",
            "_view_name": "LayoutView",
            "align_content": null,
            "align_items": null,
            "align_self": null,
            "border": null,
            "bottom": null,
            "display": null,
            "flex": null,
            "flex_flow": null,
            "grid_area": null,
            "grid_auto_columns": null,
            "grid_auto_flow": null,
            "grid_auto_rows": null,
            "grid_column": null,
            "grid_gap": null,
            "grid_row": null,
            "grid_template_areas": null,
            "grid_template_columns": null,
            "grid_template_rows": null,
            "height": null,
            "justify_content": null,
            "justify_items": null,
            "left": null,
            "margin": null,
            "max_height": null,
            "max_width": null,
            "min_height": null,
            "min_width": null,
            "object_fit": null,
            "object_position": null,
            "order": null,
            "overflow": null,
            "overflow_x": null,
            "overflow_y": null,
            "padding": null,
            "right": null,
            "top": null,
            "visibility": null,
            "width": null
          }
        },
        "f451b0d5324b4995ba2a6c810c3c2fac": {
          "model_module": "@jupyter-widgets/controls",
          "model_module_version": "1.5.0",
          "model_name": "FloatProgressModel",
          "state": {
            "_dom_classes": [],
            "_model_module": "@jupyter-widgets/controls",
            "_model_module_version": "1.5.0",
            "_model_name": "FloatProgressModel",
            "_view_count": null,
            "_view_module": "@jupyter-widgets/controls",
            "_view_module_version": "1.5.0",
            "_view_name": "ProgressView",
            "bar_style": "success",
            "description": "",
            "description_tooltip": null,
            "layout": "IPY_MODEL_62e055959f004a409c86c1e09f7fd253",
            "max": 1000,
            "min": 0,
            "orientation": "horizontal",
            "style": "IPY_MODEL_8061c27c87b74b4796ce93830fa9f906",
            "value": 1000
          }
        },
        "ffa2db0aefd7471295da43a834497f10": {
          "model_module": "@jupyter-widgets/controls",
          "model_module_version": "1.5.0",
          "model_name": "HBoxModel",
          "state": {
            "_dom_classes": [],
            "_model_module": "@jupyter-widgets/controls",
            "_model_module_version": "1.5.0",
            "_model_name": "HBoxModel",
            "_view_count": null,
            "_view_module": "@jupyter-widgets/controls",
            "_view_module_version": "1.5.0",
            "_view_name": "HBoxView",
            "box_style": "",
            "children": [
              "IPY_MODEL_17e11b5f59e04d9f86b8bd6783ccdfb3",
              "IPY_MODEL_f451b0d5324b4995ba2a6c810c3c2fac",
              "IPY_MODEL_44105c5356a345c6a57389ff2aa9a52c"
            ],
            "layout": "IPY_MODEL_33ff32f02bc348ae8e42b2cb9f923821"
          }
        }
      }
    }
  },
  "nbformat": 4,
  "nbformat_minor": 0
}
